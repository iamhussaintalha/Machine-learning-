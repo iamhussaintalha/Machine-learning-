{
 "cells": [
  {
   "cell_type": "code",
   "execution_count": 2,
   "id": "84c981a7-5b3f-497b-be23-3f569af3e82a",
   "metadata": {},
   "outputs": [],
   "source": [
    "import numpy as np\n",
    "import pandas as pd\n",
    "%matplotlib inline\n",
    "from matplotlib import pyplot as plt"
   ]
  },
  {
   "cell_type": "code",
   "execution_count": 3,
   "id": "6658adf7",
   "metadata": {},
   "outputs": [],
   "source": [
    "trnX=np.loadtxt('trainX.txt', dtype=np.uint8)\n",
    "trnY=np.loadtxt('trainY.txt', dtype=np.uint8)\n",
    "tstX=np.loadtxt('testX.txt', dtype=np.uint8)\n",
    "tstY=np.loadtxt('testY.txt', dtype=np.uint8)"
   ]
  },
  {
   "cell_type": "code",
   "execution_count": 4,
   "id": "b5b7986e-5a59-4c97-8cf7-79289f2aca50",
   "metadata": {},
   "outputs": [],
   "source": [
    "trnX2=trnX[:250]\n",
    "trnX4=trnX[250:]"
   ]
  },
  {
   "cell_type": "code",
   "execution_count": 5,
   "id": "d9a80766",
   "metadata": {},
   "outputs": [],
   "source": [
    "#prob P(x=1|2)\n",
    "trnX2_1=trnX2.sum(axis=0)/trnX2.shape[0]"
   ]
  },
  {
   "cell_type": "code",
   "execution_count": 6,
   "id": "6f8154e5",
   "metadata": {},
   "outputs": [],
   "source": [
    "#prob P(x=0|2)\n",
    "trnX2_0=1-trnX2_1"
   ]
  },
  {
   "cell_type": "code",
   "execution_count": 7,
   "id": "7e9d4c1f",
   "metadata": {},
   "outputs": [],
   "source": [
    "#prob P(x=1|4)\n",
    "trnX4_1=trnX4.sum(axis=0)/trnX4.shape[0]"
   ]
  },
  {
   "cell_type": "code",
   "execution_count": 8,
   "id": "a9c5a120-54d1-4dc8-adc2-4902773b228a",
   "metadata": {},
   "outputs": [],
   "source": [
    "#prob P(x=0|4)\n",
    "trnX4_0=1-trnX4_1"
   ]
  },
  {
   "cell_type": "code",
   "execution_count": 9,
   "id": "8c3075e2-5bd4-4248-9d80-5f3072f5d8c5",
   "metadata": {},
   "outputs": [],
   "source": [
    "#prob P(2)\n",
    "trn_p_2=trnX2.shape[0] / trnX.shape[0]\n",
    "trn_p_4=trnX4.shape[0] / trnX.shape[0]"
   ]
  },
  {
   "cell_type": "code",
   "execution_count": 10,
   "id": "634df423",
   "metadata": {},
   "outputs": [],
   "source": [
    "tstY2=tstY[:50]\n",
    "tstY4=tstY[50:]"
   ]
  },
  {
   "cell_type": "code",
   "execution_count": 11,
   "id": "09b263db",
   "metadata": {},
   "outputs": [],
   "source": [
    "trnY2=trnY[:250]\n",
    "trnY4=trnY[250:]"
   ]
  },
  {
   "cell_type": "code",
   "execution_count": 12,
   "id": "c6d8ab64",
   "metadata": {},
   "outputs": [],
   "source": [
    "tstX2=tstX[:50]\n",
    "tstX4=tstX[50:]"
   ]
  },
  {
   "cell_type": "code",
   "execution_count": 12,
   "id": "01cef04b",
   "metadata": {},
   "outputs": [],
   "source": [
    "def find_accuracy(tstX , tstY):\n",
    "    P_2 = np.prod((tstX*trnX2_1)+((1 - tstX)*trnX2_0), axis = 1)*(trn_p_2)\n",
    "    P_4 = np.prod((tstX*trnX4_1)+((1 - tstX)*trnX4_0), axis = 1)*(trn_p_4)\n",
    "    results = np.where(P_2 >= P_4 , 2 , 4 )\n",
    "    Accuracy = np.where(tstY == results , 1 , 0).sum() / tstY.shape[0] * 100\n",
    "    return Accuracy"
   ]
  },
  {
   "cell_type": "code",
   "execution_count": 13,
   "id": "ed49143d-ac68-4159-98d1-146d9867a498",
   "metadata": {},
   "outputs": [
    {
     "name": "stdout",
     "output_type": "stream",
     "text": [
      "Overall Accuracy of Training Data\n",
      "Accuracy:  99.4\n"
     ]
    }
   ],
   "source": [
    "print ('Overall Accuracy of Training Data')\n",
    "print ('Accuracy: ' ,find_accuracy(trnX , trnY))"
   ]
  },
  {
   "cell_type": "code",
   "execution_count": 14,
   "id": "8b0fe0ea",
   "metadata": {},
   "outputs": [
    {
     "name": "stdout",
     "output_type": "stream",
     "text": [
      "Accuracy of Training Data class 2\n",
      "Accuracy:  99.6\n"
     ]
    }
   ],
   "source": [
    "print ('Accuracy of Training Data class 2')\n",
    "print ('Accuracy: ' , find_accuracy(trnX2 , trnY2))"
   ]
  },
  {
   "cell_type": "code",
   "execution_count": 15,
   "id": "d5c17fb5",
   "metadata": {},
   "outputs": [
    {
     "name": "stdout",
     "output_type": "stream",
     "text": [
      "Accuracy of Training Data class 4\n",
      "Accuracy:  99.2\n"
     ]
    }
   ],
   "source": [
    "print ('Accuracy of Training Data class 4')\n",
    "print ('Accuracy: ' , find_accuracy(trnX4 , trnY4))"
   ]
  },
  {
   "cell_type": "code",
   "execution_count": 16,
   "id": "55b18a18",
   "metadata": {},
   "outputs": [
    {
     "name": "stdout",
     "output_type": "stream",
     "text": [
      "Overall Accuracy of Testing Data\n",
      "Accuracy:  100.0\n"
     ]
    }
   ],
   "source": [
    "print ('Overall Accuracy of Testing Data')\n",
    "print ('Accuracy: ' , find_accuracy(tstX , tstY))"
   ]
  },
  {
   "cell_type": "code",
   "execution_count": 17,
   "id": "302a5f20",
   "metadata": {},
   "outputs": [
    {
     "name": "stdout",
     "output_type": "stream",
     "text": [
      "Accuracy of Testing Data class 2\n",
      "Accuracy:  100.0\n"
     ]
    }
   ],
   "source": [
    "print ('Accuracy of Testing Data class 2')\n",
    "print ('Accuracy: ' , find_accuracy(tstX2 , tstY2))"
   ]
  },
  {
   "cell_type": "code",
   "execution_count": 18,
   "id": "9054113c",
   "metadata": {},
   "outputs": [
    {
     "name": "stdout",
     "output_type": "stream",
     "text": [
      "Accuracy of Testing Data class 4\n",
      "Accuracy:  100.0\n"
     ]
    }
   ],
   "source": [
    "print ('Accuracy of Testing Data class 4')\n",
    "print ('Accuracy: ' , find_accuracy(tstX4 , tstY4))"
   ]
  },
  {
   "cell_type": "code",
   "execution_count": null,
   "id": "2fea03d2",
   "metadata": {},
   "outputs": [],
   "source": []
  }
 ],
 "metadata": {
  "kernelspec": {
   "display_name": "Python 3 (ipykernel)",
   "language": "python",
   "name": "python3"
  },
  "language_info": {
   "codemirror_mode": {
    "name": "ipython",
    "version": 3
   },
   "file_extension": ".py",
   "mimetype": "text/x-python",
   "name": "python",
   "nbconvert_exporter": "python",
   "pygments_lexer": "ipython3",
   "version": "3.11.5"
  }
 },
 "nbformat": 4,
 "nbformat_minor": 5
}
